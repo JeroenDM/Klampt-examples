{
 "cells": [
  {
   "cell_type": "code",
   "execution_count": null,
   "metadata": {
    "scrolled": true
   },
   "outputs": [],
   "source": [
    "from klampt import *\n",
    "from klampt import vis\n",
    "from IPython.display import display,HTML\n",
    "\n",
    "world = WorldModel()\n",
    "world.loadFile(\"../data/athlete_plane.xml\")\n",
    "vis.init(\"HTML\")\n",
    "vis.add(\"world\",world)\n",
    "q0 = world.robot(0).getConfig()\n",
    "qnew= [v for v in q0]\n",
    "dt = 1.0/30.0   #30fps\n",
    "for i in range(60):\n",
    "    qnew[2] += dt*1.0\n",
    "    world.robot(0).setConfig(qnew)\n",
    "    vis.stepAnimation(dt)\n",
    "display(HTML(\"This is a raw HTML/Javascript snippet\"))\n",
    "vis.show()"
   ]
  },
  {
   "cell_type": "code",
   "execution_count": null,
   "metadata": {},
   "outputs": [],
   "source": []
  }
 ],
 "metadata": {
  "kernelspec": {
   "display_name": "Python 3",
   "language": "python",
   "name": "python3"
  },
  "language_info": {
   "codemirror_mode": {
    "name": "ipython",
    "version": 3
   },
   "file_extension": ".py",
   "mimetype": "text/x-python",
   "name": "python",
   "nbconvert_exporter": "python",
   "pygments_lexer": "ipython3",
   "version": "3.5.2"
  },
  "latex_envs": {
   "LaTeX_envs_menu_present": true,
   "autoclose": false,
   "autocomplete": true,
   "bibliofile": "biblio.bib",
   "cite_by": "apalike",
   "current_citInitial": 1,
   "eqLabelWithNumbers": true,
   "eqNumInitial": 1,
   "hotkeys": {
    "equation": "Ctrl-E",
    "itemize": "Ctrl-I"
   },
   "labels_anchors": false,
   "latex_user_defs": false,
   "report_style_numbering": false,
   "user_envs_cfg": false
  },
  "toc": {
   "base_numbering": 1,
   "nav_menu": {},
   "number_sections": true,
   "sideBar": true,
   "skip_h1_title": false,
   "title_cell": "Table of Contents",
   "title_sidebar": "Contents",
   "toc_cell": false,
   "toc_position": {},
   "toc_section_display": true,
   "toc_window_display": false
  }
 },
 "nbformat": 4,
 "nbformat_minor": 2
}

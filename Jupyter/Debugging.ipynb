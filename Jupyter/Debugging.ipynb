{
 "cells": [
  {
   "cell_type": "code",
   "execution_count": null,
   "metadata": {},
   "outputs": [],
   "source": [
    "%%javascript\n",
    "//debugging to see if jupyter-klampt-widget is installed properly\n",
    "console.log(require.s.contexts._.defined);\n",
    "var kf = require('nbextensions/klampt/KlamptFrontend');\n",
    "console.log(kf);"
   ]
  },
  {
   "cell_type": "code",
   "execution_count": null,
   "metadata": {},
   "outputs": [],
   "source": [
    "import time\n",
    "from klampt import *\n",
    "from klampt.math import vectorops,so3,se3\n",
    "from klampt import vis\n",
    "from IPython.display import clear_output\n",
    "\n",
    "world = WorldModel()\n",
    "#world.loadFile(\"../data/athlete_plane.xml\")\n",
    "world.readFile(\"../data/robots/tx90l.rob\")\n",
    "vis.add(\"world\",world)\n",
    "#If you'd like to hide the print output, uncomment this line\n",
    "#clear_output()\n",
    "vis.show()\n",
    "\n",
    "#Controls:\n",
    "#left mouse click to rotate the view\n",
    "#right click or ctrl+click to pan the view\n",
    "#mouse wheel or shift+click to zoom the view"
   ]
  },
  {
   "cell_type": "code",
   "execution_count": null,
   "metadata": {},
   "outputs": [],
   "source": [
    "#testing bug\n",
    "from klampt.model import ik\n",
    "from klampt.plan import robotplanning\n",
    "robot = world.robot(0)\n",
    "qtemp = [0]*robot.numLinks()\n",
    "qtemp[3] += 2.0\n",
    "robot.setConfig(qtemp)\n",
    "obj = ik.fixed_objective(robot.link(6),local=[0,0,0])\n",
    "vis.add(\"ik_target\",obj.getPosition()[1],color=(1,0,0),size=0.02)\n",
    "vis.add(\"ghost\",qtemp,color=(0,1,0,0.5))\n",
    "robot.setConfig([0]*robot.numLinks())\n",
    "vis.update()\n",
    "s = robotplanning.makeSpace(world,robot,equalityConstraints=[obj],movingSubset=[1,2,3])\n",
    "print(s.__class__.__name__)\n",
    "print(s.ambientspace.solver.getActiveDofs())"
   ]
  },
  {
   "cell_type": "code",
   "execution_count": null,
   "metadata": {},
   "outputs": [],
   "source": [
    "from klampt.math import vectorops\n",
    "q0 = [0,0,0]\n",
    "q = s.sampleneighborhood(q0,1.0)\n",
    "print(q,s.feasible(q),s.cspace.feasibilityFailures(q))\n",
    "robot.setConfig(s.lift(q))\n",
    "print(\"error\",vectorops.norm(ik.residual(obj)))\n",
    "vis.update()\n",
    "\n",
    "solver = ik.solver(obj)\n",
    "solver.setActiveDofs([1,2,3])\n",
    "print(\"Solved?\",solver.solve(),solver.getResidual())"
   ]
  },
  {
   "cell_type": "code",
   "execution_count": null,
   "metadata": {},
   "outputs": [],
   "source": [
    "#add testing\n",
    "\n",
    "robot = world.robot(0)\n",
    "q = robot.getConfig()\n",
    "q[2] += 0.5\n",
    "q1 = [v for v in q]\n",
    "q[2] += 0.5\n",
    "q2 = [v for v in q]\n",
    "#kvis.add('milestones',[q1,q2])\n",
    "#kvis.set_color('milestones',0,1,0,0.5)\n",
    "\n",
    "from klampt.model.trajectory import Trajectory\n",
    "traj = Trajectory([0,1],[q1,q2])\n",
    "q1[0] += 0.5\n",
    "q2[0] += 0.5\n",
    "vis.add('milestones',traj)\n",
    "vis.setColor('milestones',0,1,0,0.5)"
   ]
  },
  {
   "cell_type": "code",
   "execution_count": null,
   "metadata": {},
   "outputs": [],
   "source": [
    "%%javascript\n",
    "var w = window.open('', '');\n",
    "w.document.title = \"Screenshot\";\n",
    "var img = new Image();\n",
    "img.src = $(\".p-Widget > div > canvas\")[0].toDataURL();\n",
    "w.document.body.appendChild(img);  "
   ]
  },
  {
   "cell_type": "code",
   "execution_count": null,
   "metadata": {},
   "outputs": [],
   "source": []
  }
 ],
 "metadata": {
  "kernelspec": {
   "display_name": "Python 3",
   "language": "python",
   "name": "python3"
  },
  "language_info": {
   "codemirror_mode": {
    "name": "ipython",
    "version": 3
   },
   "file_extension": ".py",
   "mimetype": "text/x-python",
   "name": "python",
   "nbconvert_exporter": "python",
   "pygments_lexer": "ipython3",
   "version": "3.5.2"
  },
  "latex_envs": {
   "LaTeX_envs_menu_present": true,
   "autoclose": false,
   "autocomplete": true,
   "bibliofile": "biblio.bib",
   "cite_by": "apalike",
   "current_citInitial": 1,
   "eqLabelWithNumbers": true,
   "eqNumInitial": 1,
   "hotkeys": {
    "equation": "Ctrl-E",
    "itemize": "Ctrl-I"
   },
   "labels_anchors": false,
   "latex_user_defs": false,
   "report_style_numbering": false,
   "user_envs_cfg": false
  },
  "toc": {
   "base_numbering": 1,
   "nav_menu": {},
   "number_sections": true,
   "sideBar": true,
   "skip_h1_title": false,
   "title_cell": "Table of Contents",
   "title_sidebar": "Contents",
   "toc_cell": false,
   "toc_position": {},
   "toc_section_display": true,
   "toc_window_display": false
  }
 },
 "nbformat": 4,
 "nbformat_minor": 2
}

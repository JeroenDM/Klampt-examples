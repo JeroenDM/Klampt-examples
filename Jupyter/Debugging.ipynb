{
 "cells": [
  {
   "cell_type": "code",
   "execution_count": 1,
   "metadata": {},
   "outputs": [
    {
     "data": {
      "application/javascript": [
       "//debugging to see if jupyter-klampt-widget is installed properly\n",
       "console.log(require.s.contexts._.defined);\n",
       "var kf = require('nbextensions/klampt/KlamptFrontend');\n",
       "console.log(kf);"
      ],
      "text/plain": [
       "<IPython.core.display.Javascript object>"
      ]
     },
     "metadata": {},
     "output_type": "display_data"
    }
   ],
   "source": [
    "%%javascript\n",
    "//debugging to see if jupyter-klampt-widget is installed properly\n",
    "console.log(require.s.contexts._.defined);\n",
    "var kf = require('nbextensions/klampt/KlamptFrontend');\n",
    "console.log(kf);"
   ]
  },
  {
   "cell_type": "code",
   "execution_count": 1,
   "metadata": {},
   "outputs": [
    {
     "name": "stdout",
     "output_type": "stream",
     "text": [
      "***  klampt.vis: using Qt5 as the visualization backend  ***\n"
     ]
    },
    {
     "data": {
      "application/vnd.jupyter.widget-view+json": {
       "model_id": "a179823a61864773b0478919c0a7d7f7",
       "version_major": 2,
       "version_minor": 0
      },
      "text/plain": [
       "KlamptWidget(scene={'metadata': {'version': 4.4, 'type': 'Object', 'fullscene': True, 'generator': 'Klampt thr…"
      ]
     },
     "metadata": {},
     "output_type": "display_data"
    }
   ],
   "source": [
    "#Python 2/3 compatibility\n",
    "from __future__ import print_function,division\n",
    "import time\n",
    "from klampt import *\n",
    "from klampt.math import vectorops,so3,se3\n",
    "from klampt.vis.ipython import KlamptWidget\n",
    "\n",
    "world = WorldModel()\n",
    "#world.loadFile(\"../data/athlete_plane.xml\")\n",
    "world.readFile(\"../data/robots/tx90l.rob\")\n",
    "kvis = KlamptWidget(world)\n",
    "#If you'd like to hide the print output, uncomment this line\n",
    "#clear_output()\n",
    "display(kvis)\n",
    "\n",
    "#Controls:\n",
    "#left mouse click to rotate the view\n",
    "#right click or ctrl+click to pan the view\n",
    "#mouse wheel or shift+click to zoom the view"
   ]
  },
  {
   "cell_type": "code",
   "execution_count": 3,
   "metadata": {},
   "outputs": [
    {
     "name": "stdout",
     "output_type": "stream",
     "text": [
      "EmbeddedRobotCSpace\n",
      "[1, 2, 3]\n"
     ]
    }
   ],
   "source": [
    "#testing bug\n",
    "from klampt.model import ik\n",
    "from klampt.plan import robotplanning\n",
    "robot = world.robot(0)\n",
    "qtemp = [0]*robot.numLinks()\n",
    "qtemp[3] += 2.0\n",
    "robot.setConfig(qtemp)\n",
    "obj = ik.fixed_objective(robot.link(6),local=[0,0,0])\n",
    "kvis.clearExtras()\n",
    "kvis.addSphere(\"ik_target\",*obj.getPosition()[1],r=0.02)\n",
    "kvis.setColor(\"ik_target\",1,0,0)\n",
    "kvis.addGhost()\n",
    "kvis.setGhostConfig(qtemp)\n",
    "kvis.setColor(\"ghost\",0,1,0,0.5)\n",
    "robot.setConfig([0]*robot.numLinks())\n",
    "kvis.update()\n",
    "s = robotplanning.makeSpace(world,robot,equalityConstraints=[obj],movingSubset=[1,2,3])\n",
    "print s.__class__.__name__\n",
    "print s.ambientspace.solver.getActiveDofs()"
   ]
  },
  {
   "cell_type": "code",
   "execution_count": 9,
   "metadata": {},
   "outputs": [
    {
     "name": "stdout",
     "output_type": "stream",
     "text": [
      "[1.917663125283319e-05, -2.3906794360190817, -1.9978456307765398] True []\n",
      "error 4.87920026665e-05\n",
      "Solved? True [4.0333376310819347e-05, -1.031504997774102e-05, -2.5445589471151386e-05]\n"
     ]
    }
   ],
   "source": [
    "from klampt.math import vectorops\n",
    "q0 = [0,0,0]\n",
    "q = s.sampleneighborhood(q0,1.0)\n",
    "print q,s.feasible(q),s.cspace.feasibilityFailures(q)\n",
    "robot.setConfig(s.lift(q))\n",
    "print \"error\",vectorops.norm(ik.residual(obj))\n",
    "kvis.update()\n",
    "\n",
    "solver = ik.solver(obj)\n",
    "solver.setActiveDofs([1,2,3])\n",
    "print \"Solved?\",solver.solve(),solver.getResidual()"
   ]
  },
  {
   "cell_type": "code",
   "execution_count": null,
   "metadata": {},
   "outputs": [],
   "source": [
    "#add testing\n",
    "\n",
    "robot = world.robot(0)\n",
    "q = robot.getConfig()\n",
    "q[2] += 0.5\n",
    "q1 = [v for v in q]\n",
    "q[2] += 0.5\n",
    "q2 = [v for v in q]\n",
    "#kvis.add('milestones',[q1,q2])\n",
    "#kvis.set_color('milestones',0,1,0,0.5)\n",
    "\n",
    "from klampt.model.trajectory import Trajectory\n",
    "traj = Trajectory([0,1],[q1,q2])\n",
    "q1[0] += 0.5\n",
    "q2[0] += 0.5\n",
    "kvis.add('milestones',traj)\n",
    "kvis.setColor('milestones',0,1,0,0.5)"
   ]
  },
  {
   "cell_type": "code",
   "execution_count": null,
   "metadata": {},
   "outputs": [
    {
     "data": {
      "application/javascript": [
       "var w = window.open('', '');\n",
       "w.document.title = \"Screenshot\";\n",
       "var img = new Image();\n",
       "img.src = $(\".p-Widget > div > canvas\")[0].toDataURL();\n",
       "w.document.body.appendChild(img);  \n"
      ],
      "text/plain": [
       "<IPython.core.display.Javascript object>"
      ]
     },
     "metadata": {},
     "output_type": "display_data"
    }
   ],
   "source": [
    "#Testing screenshots\n",
    "%%javascript\n",
    "var w = window.open('', '');\n",
    "w.document.title = \"Screenshot\";\n",
    "var img = new Image();\n",
    "img.src = $(\".p-Widget > div > canvas\")[0].toDataURL();\n",
    "w.document.body.appendChild(img);  "
   ]
  },
  {
   "cell_type": "code",
   "execution_count": null,
   "metadata": {},
   "outputs": [],
   "source": []
  }
 ],
 "metadata": {
  "kernelspec": {
   "display_name": "Python 3",
   "language": "python",
   "name": "python3"
  },
  "language_info": {
   "codemirror_mode": {
    "name": "ipython",
    "version": 3
   },
   "file_extension": ".py",
   "mimetype": "text/x-python",
   "name": "python",
   "nbconvert_exporter": "python",
   "pygments_lexer": "ipython3",
   "version": "3.7.3"
  },
  "latex_envs": {
   "LaTeX_envs_menu_present": true,
   "autoclose": false,
   "autocomplete": true,
   "bibliofile": "biblio.bib",
   "cite_by": "apalike",
   "current_citInitial": 1,
   "eqLabelWithNumbers": true,
   "eqNumInitial": 1,
   "hotkeys": {
    "equation": "Ctrl-E",
    "itemize": "Ctrl-I"
   },
   "labels_anchors": false,
   "latex_user_defs": false,
   "report_style_numbering": false,
   "user_envs_cfg": false
  },
  "toc": {
   "base_numbering": 1,
   "nav_menu": {},
   "number_sections": true,
   "sideBar": true,
   "skip_h1_title": false,
   "title_cell": "Table of Contents",
   "title_sidebar": "Contents",
   "toc_cell": false,
   "toc_position": {},
   "toc_section_display": true,
   "toc_window_display": false
  }
 },
 "nbformat": 4,
 "nbformat_minor": 2
}
